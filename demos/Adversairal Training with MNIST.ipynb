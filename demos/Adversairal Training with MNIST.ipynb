{
 "cells": [
  {
   "cell_type": "markdown",
   "metadata": {},
   "source": [
    "# Demo - Adversarial Training with MNIST"
   ]
  },
  {
   "cell_type": "code",
   "execution_count": 1,
   "metadata": {},
   "outputs": [],
   "source": [
    "import os\n",
    "import sys\n",
    "import numpy as np\n",
    "\n",
    "import torch\n",
    "import torch.nn as nn\n",
    "import torch.optim as optim\n",
    "\n",
    "import torchvision.utils\n",
    "from torchvision import models\n",
    "import torchvision.datasets as dsets\n",
    "import torchvision.transforms as transforms\n",
    "\n",
    "import attacks"
   ]
  },
  {
   "cell_type": "code",
   "execution_count": 2,
   "metadata": {},
   "outputs": [],
   "source": [
    "import matplotlib.pyplot as plt\n",
    "%matplotlib inline"
   ]
  },
  {
   "cell_type": "markdown",
   "metadata": {},
   "source": [
    "## 1. Load MNIST Data"
   ]
  },
  {
   "cell_type": "code",
   "execution_count": 3,
   "metadata": {},
   "outputs": [],
   "source": [
    "mnist_train = dsets.MNIST(root='data/',\n",
    "                          train=True,\n",
    "                          transform=transforms.ToTensor(),\n",
    "                          download=True)\n",
    "\n",
    "mnist_test = dsets.MNIST(root='data/',\n",
    "                         train=False,\n",
    "                         transform=transforms.ToTensor(),\n",
    "                         download=True)"
   ]
  },
  {
   "cell_type": "code",
   "execution_count": 4,
   "metadata": {},
   "outputs": [],
   "source": [
    "batch_size = 24\n",
    "\n",
    "train_loader  = torch.utils.data.DataLoader(dataset=mnist_train,\n",
    "                                           batch_size=batch_size,\n",
    "                                           shuffle=False)\n",
    "\n",
    "test_loader = torch.utils.data.DataLoader(dataset=mnist_test,\n",
    "                                         batch_size=batch_size,\n",
    "                                         shuffle=False)"
   ]
  },
  {
   "cell_type": "code",
   "execution_count": 5,
   "metadata": {},
   "outputs": [],
   "source": [
    "def imshow(img, title):\n",
    "    npimg = img.numpy()\n",
    "    fig = plt.figure(figsize = (5, 15))\n",
    "    plt.imshow(np.transpose(npimg,(1,2,0)))\n",
    "    plt.title(title)\n",
    "    plt.show()"
   ]
  },
  {
   "cell_type": "code",
   "execution_count": 6,
   "metadata": {},
   "outputs": [
    {
     "data": {
      "image/png": "[encoded data removed]",
      "text/plain": [
       "<Figure size 360x1080 with 1 Axes>"
      ]
     },
     "metadata": {},
     "output_type": "display_data"
    }
   ],
   "source": [
    "images, labels = iter(train_loader).next()\n",
    "imshow(torchvision.utils.make_grid(images, normalize=True), \"Train Image\")"
   ]
  },
  {
   "cell_type": "markdown",
   "metadata": {},
   "source": [
    "## 2. Define Model"
   ]
  },
  {
   "cell_type": "code",
   "execution_count": 7,
   "metadata": {},
   "outputs": [],
   "source": [
    "class CNN(nn.Module):\n",
    "    def __init__(self):\n",
    "        super(CNN, self).__init__()\n",
    "        \n",
    "        self.layer = nn.Sequential(\n",
    "            nn.Conv2d(1,16,5),\n",
    "            nn.ReLU(),\n",
    "            nn.Conv2d(16,32,5),\n",
    "            nn.ReLU(),\n",
    "            nn.MaxPool2d(2,2),\n",
    "            nn.Conv2d(32,64,5),\n",
    "            nn.ReLU(),\n",
    "            nn.MaxPool2d(2,2)\n",
    "        )\n",
    "        \n",
    "        self.fc_layer = nn.Sequential(\n",
    "            nn.Linear(64*3*3,100),\n",
    "            nn.ReLU(),\n",
    "            nn.Linear(100,10)\n",
    "        )       \n",
    "        \n",
    "    def forward(self,x):\n",
    "        out = self.layer(x)\n",
    "        out = out.view(-1,64*3*3)\n",
    "        out = self.fc_layer(out)\n",
    "\n",
    "        return out"
   ]
  },
  {
   "cell_type": "code",
   "execution_count": 8,
   "metadata": {},
   "outputs": [],
   "source": [
    "model = CNN().cuda()"
   ]
  },
  {
   "cell_type": "code",
   "execution_count": 9,
   "metadata": {},
   "outputs": [],
   "source": [
    "loss = nn.CrossEntropyLoss()\n",
    "optimizer = optim.SGD(model.parameters(), lr=0.1)"
   ]
  },
  {
   "cell_type": "markdown",
   "metadata": {},
   "source": [
    "## 3. Train Model"
   ]
  },
  {
   "cell_type": "code",
   "execution_count": 10,
   "metadata": {},
   "outputs": [],
   "source": [
    "num_epochs = 5"
   ]
  },
  {
   "cell_type": "code",
   "execution_count": 11,
   "metadata": {
    "scrolled": true
   },
   "outputs": [
    {
     "name": "stdout",
     "output_type": "stream",
     "text": [
      "Epoch [1/5], lter [100/2500], Loss: 2.3114\n",
      "Epoch [1/5], lter [200/2500], Loss: 1.1173\n",
      "Epoch [1/5], lter [300/2500], Loss: 1.4328\n",
      "Epoch [1/5], lter [400/2500], Loss: 0.8241\n",
      "Epoch [1/5], lter [500/2500], Loss: 0.6968\n",
      "Epoch [1/5], lter [600/2500], Loss: 1.3403\n",
      "Epoch [1/5], lter [700/2500], Loss: 0.8263\n",
      "Epoch [1/5], lter [800/2500], Loss: 0.5918\n",
      "Epoch [1/5], lter [900/2500], Loss: 0.7654\n",
      "Epoch [1/5], lter [1000/2500], Loss: 0.4669\n",
      "Epoch [1/5], lter [1100/2500], Loss: 0.6659\n",
      "Epoch [1/5], lter [1200/2500], Loss: 0.2889\n",
      "Epoch [1/5], lter [1300/2500], Loss: 0.3250\n",
      "Epoch [1/5], lter [1400/2500], Loss: 0.2834\n",
      "Epoch [1/5], lter [1500/2500], Loss: 0.5259\n",
      "Epoch [1/5], lter [1600/2500], Loss: 0.6014\n",
      "Epoch [1/5], lter [1700/2500], Loss: 0.0552\n",
      "Epoch [1/5], lter [1800/2500], Loss: 0.3085\n",
      "Epoch [1/5], lter [1900/2500], Loss: 0.3155\n",
      "Epoch [1/5], lter [2000/2500], Loss: 0.2147\n",
      "Epoch [1/5], lter [2100/2500], Loss: 0.3947\n",
      "Epoch [1/5], lter [2200/2500], Loss: 0.0442\n",
      "Epoch [1/5], lter [2300/2500], Loss: 0.3235\n",
      "Epoch [1/5], lter [2400/2500], Loss: 0.2883\n",
      "Epoch [1/5], lter [2500/2500], Loss: 0.0371\n",
      "Epoch [2/5], lter [100/2500], Loss: 0.1880\n",
      "Epoch [2/5], lter [200/2500], Loss: 0.2270\n",
      "Epoch [2/5], lter [300/2500], Loss: 0.1592\n",
      "Epoch [2/5], lter [400/2500], Loss: 0.3819\n",
      "Epoch [2/5], lter [500/2500], Loss: 0.4542\n",
      "Epoch [2/5], lter [600/2500], Loss: 3.0974\n",
      "Epoch [2/5], lter [700/2500], Loss: 0.5726\n",
      "Epoch [2/5], lter [800/2500], Loss: 0.3522\n",
      "Epoch [2/5], lter [900/2500], Loss: 0.4687\n",
      "Epoch [2/5], lter [1000/2500], Loss: 0.2639\n",
      "Epoch [2/5], lter [1100/2500], Loss: 0.6169\n",
      "Epoch [2/5], lter [1200/2500], Loss: 0.2913\n",
      "Epoch [2/5], lter [1300/2500], Loss: 0.2076\n",
      "Epoch [2/5], lter [1400/2500], Loss: 0.2915\n",
      "Epoch [2/5], lter [1500/2500], Loss: 0.3336\n",
      "Epoch [2/5], lter [1600/2500], Loss: 0.3570\n",
      "Epoch [2/5], lter [1700/2500], Loss: 0.0664\n",
      "Epoch [2/5], lter [1800/2500], Loss: 0.3225\n",
      "Epoch [2/5], lter [1900/2500], Loss: 0.3245\n",
      "Epoch [2/5], lter [2000/2500], Loss: 0.1482\n",
      "Epoch [2/5], lter [2100/2500], Loss: 0.5015\n",
      "Epoch [2/5], lter [2200/2500], Loss: 0.0512\n",
      "Epoch [2/5], lter [2300/2500], Loss: 0.3287\n",
      "Epoch [2/5], lter [2400/2500], Loss: 0.1434\n",
      "Epoch [2/5], lter [2500/2500], Loss: 0.0419\n",
      "Epoch [3/5], lter [100/2500], Loss: 0.2542\n",
      "Epoch [3/5], lter [200/2500], Loss: 0.1435\n",
      "Epoch [3/5], lter [300/2500], Loss: 0.1436\n",
      "Epoch [3/5], lter [400/2500], Loss: 0.1097\n",
      "Epoch [3/5], lter [500/2500], Loss: 0.1264\n",
      "Epoch [3/5], lter [600/2500], Loss: 2.9933\n",
      "Epoch [3/5], lter [700/2500], Loss: 2.4423\n",
      "Epoch [3/5], lter [800/2500], Loss: 2.0258\n",
      "Epoch [3/5], lter [900/2500], Loss: 1.7343\n",
      "Epoch [3/5], lter [1000/2500], Loss: 1.7092\n",
      "Epoch [3/5], lter [1100/2500], Loss: 1.6464\n",
      "Epoch [3/5], lter [1200/2500], Loss: 1.3112\n",
      "Epoch [3/5], lter [1300/2500], Loss: 0.8128\n",
      "Epoch [3/5], lter [1400/2500], Loss: 0.8594\n",
      "Epoch [3/5], lter [1500/2500], Loss: 1.0500\n",
      "Epoch [3/5], lter [1600/2500], Loss: 1.1455\n",
      "Epoch [3/5], lter [1700/2500], Loss: 0.2690\n",
      "Epoch [3/5], lter [1800/2500], Loss: 0.7870\n",
      "Epoch [3/5], lter [1900/2500], Loss: 0.6575\n",
      "Epoch [3/5], lter [2000/2500], Loss: 0.2630\n",
      "Epoch [3/5], lter [2100/2500], Loss: 0.9174\n",
      "Epoch [3/5], lter [2200/2500], Loss: 0.4020\n",
      "Epoch [3/5], lter [2300/2500], Loss: 0.4934\n",
      "Epoch [3/5], lter [2400/2500], Loss: 0.6872\n",
      "Epoch [3/5], lter [2500/2500], Loss: 0.2616\n",
      "Epoch [4/5], lter [100/2500], Loss: 0.3942\n",
      "Epoch [4/5], lter [200/2500], Loss: 0.3352\n",
      "Epoch [4/5], lter [300/2500], Loss: 0.5082\n",
      "Epoch [4/5], lter [400/2500], Loss: 0.3035\n",
      "Epoch [4/5], lter [500/2500], Loss: 0.3817\n",
      "Epoch [4/5], lter [600/2500], Loss: 1.3100\n",
      "Epoch [4/5], lter [700/2500], Loss: 0.6016\n",
      "Epoch [4/5], lter [800/2500], Loss: 0.4447\n",
      "Epoch [4/5], lter [900/2500], Loss: 0.6174\n",
      "Epoch [4/5], lter [1000/2500], Loss: 0.5323\n",
      "Epoch [4/5], lter [1100/2500], Loss: 0.6570\n",
      "Epoch [4/5], lter [1200/2500], Loss: 0.3128\n",
      "Epoch [4/5], lter [1300/2500], Loss: 0.1728\n",
      "Epoch [4/5], lter [1400/2500], Loss: 1.6080\n",
      "Epoch [4/5], lter [1500/2500], Loss: 0.4976\n",
      "Epoch [4/5], lter [1600/2500], Loss: 0.5157\n",
      "Epoch [4/5], lter [1700/2500], Loss: 0.1706\n",
      "Epoch [4/5], lter [1800/2500], Loss: 0.2522\n",
      "Epoch [4/5], lter [1900/2500], Loss: 0.2167\n",
      "Epoch [4/5], lter [2000/2500], Loss: 0.0890\n",
      "Epoch [4/5], lter [2100/2500], Loss: 0.5450\n",
      "Epoch [4/5], lter [2200/2500], Loss: 0.0362\n",
      "Epoch [4/5], lter [2300/2500], Loss: 0.3288\n",
      "Epoch [4/5], lter [2400/2500], Loss: 0.2165\n",
      "Epoch [4/5], lter [2500/2500], Loss: 0.0422\n",
      "Epoch [5/5], lter [100/2500], Loss: 0.1245\n",
      "Epoch [5/5], lter [200/2500], Loss: 0.1677\n",
      "Epoch [5/5], lter [300/2500], Loss: 0.1805\n",
      "Epoch [5/5], lter [400/2500], Loss: 0.1103\n",
      "Epoch [5/5], lter [500/2500], Loss: 0.1777\n",
      "Epoch [5/5], lter [600/2500], Loss: 2.6778\n",
      "Epoch [5/5], lter [700/2500], Loss: 1.5993\n",
      "Epoch [5/5], lter [800/2500], Loss: 2.0885\n",
      "Epoch [5/5], lter [900/2500], Loss: 2.9628\n",
      "Epoch [5/5], lter [1000/2500], Loss: 1.3500\n",
      "Epoch [5/5], lter [1100/2500], Loss: 1.3318\n",
      "Epoch [5/5], lter [1200/2500], Loss: 0.6053\n",
      "Epoch [5/5], lter [1300/2500], Loss: 0.3779\n",
      "Epoch [5/5], lter [1400/2500], Loss: 0.5669\n",
      "Epoch [5/5], lter [1500/2500], Loss: 0.5786\n",
      "Epoch [5/5], lter [1600/2500], Loss: 1.0547\n",
      "Epoch [5/5], lter [1700/2500], Loss: 0.2178\n",
      "Epoch [5/5], lter [1800/2500], Loss: 0.4991\n",
      "Epoch [5/5], lter [1900/2500], Loss: 0.5058\n",
      "Epoch [5/5], lter [2000/2500], Loss: 0.3650\n",
      "Epoch [5/5], lter [2100/2500], Loss: 0.8384\n",
      "Epoch [5/5], lter [2200/2500], Loss: 0.2547\n",
      "Epoch [5/5], lter [2300/2500], Loss: 0.4562\n",
      "Epoch [5/5], lter [2400/2500], Loss: 0.6897\n",
      "Epoch [5/5], lter [2500/2500], Loss: 0.3055\n"
     ]
    }
   ],
   "source": [
    "for epoch in range(num_epochs):\n",
    "\n",
    "    total_batch = len(mnist_train) // batch_size\n",
    "\n",
    "    for i, (batch_images, batch_labels) in enumerate(train_loader):\n",
    "\n",
    "        # Normal Trianing\n",
    "        X = batch_images.cuda()\n",
    "        Y = batch_labels.cuda()\n",
    "\n",
    "        pre = model(X)\n",
    "        cost = loss(pre, Y)\n",
    "\n",
    "        optimizer.zero_grad()\n",
    "        cost.backward()\n",
    "        optimizer.step()\n",
    "\n",
    "        # Adversarial Training\n",
    "        pgd_attack = attacks.PGD(model)\n",
    "        X = pgd_attack(batch_images, batch_labels).cuda()\n",
    "        Y = batch_labels.cuda()\n",
    "\n",
    "        pre = model(X)\n",
    "        cost = loss(pre, Y)\n",
    "\n",
    "        optimizer.zero_grad()\n",
    "        cost.backward()\n",
    "        optimizer.step()\n",
    "\n",
    "        if (i+1) % 100 == 0:\n",
    "            print('Epoch [%d/%d], lter [%d/%d], Loss: %.4f'\n",
    "                 %(epoch+1, num_epochs, i+1, total_batch, cost.item()))"
   ]
  },
  {
   "cell_type": "markdown",
   "metadata": {},
   "source": [
    "## 4. Test Model"
   ]
  },
  {
   "cell_type": "markdown",
   "metadata": {},
   "source": [
    "### 4.1 Normal Data"
   ]
  },
  {
   "cell_type": "code",
   "execution_count": 12,
   "metadata": {},
   "outputs": [
    {
     "name": "stdout",
     "output_type": "stream",
     "text": [
      "Accuracy of normal images: 96.370000 %\n"
     ]
    }
   ],
   "source": [
    "model.eval()\n",
    "\n",
    "correct = 0\n",
    "total = 0\n",
    "\n",
    "for images, labels in test_loader:\n",
    "    \n",
    "    images = images.cuda()\n",
    "    outputs = model(images)\n",
    "    \n",
    "    _, predicted = torch.max(outputs.data, 1)\n",
    "    \n",
    "    total += labels.size(0)\n",
    "    correct += (predicted == labels.cuda()).sum()\n",
    "    \n",
    "print('Accuracy of normal images: %f %%' % (100 * float(correct) / total))"
   ]
  },
  {
   "cell_type": "markdown",
   "metadata": {},
   "source": [
    "### 4.2 Attack with FGSM"
   ]
  },
  {
   "cell_type": "code",
   "execution_count": 13,
   "metadata": {},
   "outputs": [
    {
     "name": "stdout",
     "output_type": "stream",
     "text": [
      "Accuracy of adversarial images: 96.110000 %\n"
     ]
    }
   ],
   "source": [
    "model.eval()\n",
    "\n",
    "correct = 0\n",
    "total = 0\n",
    "\n",
    "fgsm_attack = attacks.FGSM(model)\n",
    "\n",
    "for images, labels in test_loader:\n",
    "    \n",
    "    images = fgsm_attack(images, labels).cuda()\n",
    "    outputs = model(images)\n",
    "    \n",
    "    _, predicted = torch.max(outputs.data, 1)\n",
    "    \n",
    "    total += labels.size(0)\n",
    "    correct += (predicted == labels.cuda()).sum()\n",
    "    \n",
    "print('Accuracy of adversarial images: %f %%' % (100 * float(correct) / total))"
   ]
  }
 ],
 "metadata": {
  "kernelspec": {
   "display_name": "Python 3",
   "language": "python",
   "name": "python3"
  },
  "language_info": {
   "codemirror_mode": {
    "name": "ipython",
    "version": 3
   },
   "file_extension": ".py",
   "mimetype": "text/x-python",
   "name": "python",
   "nbconvert_exporter": "python",
   "pygments_lexer": "ipython3",
   "version": "3.6.5"
  }
 },
 "nbformat": 4,
 "nbformat_minor": 2
}
